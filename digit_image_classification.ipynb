{
 "cells": [
  {
   "cell_type": "markdown",
   "id": "a913b444",
   "metadata": {},
   "source": [
    "# Digit Image Classification\n",
    "\n",
    "## Introduction\n",
    "In the following project, we are going to classify the given digit images into ten possible classes. Each image is a matrix of 256\\*256 pixels, in which every pixel is a number in range of [0, 255]. We use the [_MNIST_](http://yann.lecun.com/exdb/mnist/) dataset, which contains 60000 images for train set and 10000 images for test set.\n",
    "\n",
    "The main idea of the following solution has been inspired by the [_Neural Network_ playlist](https://www.youtube.com/playlist?list=PLZHQObOWTQDNU6R1_67000Dx_ZCJB-3pi) of 3Blue1Brown's youtube channel.  \n",
    "Also, the formulas came from [this](http://neuralnetworksanddeeplearning.com/chap2.html) article by [_Michael Nielsen_](http://michaelnielsen.org/)."
   ]
  },
  {
   "cell_type": "code",
   "execution_count": 77,
   "id": "3f55a374",
   "metadata": {},
   "outputs": [],
   "source": [
    "import numpy as np\n",
    "import matplotlib.pyplot as plt\n",
    "import math, copy"
   ]
  },
  {
   "cell_type": "markdown",
   "id": "c9816e1f",
   "metadata": {},
   "source": [
    "## Reading Datasets"
   ]
  },
  {
   "cell_type": "code",
   "execution_count": 78,
   "id": "100a5e6e",
   "metadata": {},
   "outputs": [
    {
     "data": {
      "image/png": "[encoded data removed]",
      "text/plain": [
       "<Figure size 640x480 with 1 Axes>"
      ]
     },
     "metadata": {},
     "output_type": "display_data"
    },
    {
     "name": "stdout",
     "output_type": "stream",
     "text": [
      "5\n"
     ]
    }
   ],
   "source": [
    "# A function to plot images\n",
    "def show_image(img):\n",
    "    image = img.reshape((28, 28))\n",
    "    plt.imshow(image, 'gray')\n",
    "\n",
    "def get_maximux_label(labels_activation):\n",
    "    maximum_label = 0\n",
    "    for i in range(10):\n",
    "        if labels_activation[i] > labels_activation[maximum_label]:\n",
    "            maximum_label = i\n",
    "    return maximum_label\n",
    "\n",
    "\n",
    "# Reading The Train Set\n",
    "train_images_file = open('./Datasets/train-images.idx3-ubyte', 'rb')\n",
    "train_images_file.seek(4)\n",
    "num_of_train_images = int.from_bytes(train_images_file.read(4), 'big')\n",
    "train_images_file.seek(16)\n",
    "\n",
    "train_labels_file = open('./Datasets/train-labels.idx1-ubyte', 'rb')\n",
    "train_labels_file.seek(8)\n",
    "\n",
    "train_set = []\n",
    "for n in range(num_of_train_images):\n",
    "    image = np.zeros((784, 1))\n",
    "    for i in range(784):\n",
    "        image[i, 0] = int.from_bytes(train_images_file.read(1), 'big') / 256\n",
    "    \n",
    "    label_value = int.from_bytes(train_labels_file.read(1), 'big')\n",
    "    label = np.zeros((10, 1))\n",
    "    label[label_value, 0] = 1\n",
    "    \n",
    "    train_set.append((image, label))\n",
    "\n",
    "\n",
    "# Reading The Test Set\n",
    "test_images_file = open('./Datasets/t10k-images.idx3-ubyte', 'rb')\n",
    "test_images_file.seek(4)\n",
    "\n",
    "test_labels_file = open('./Datasets/t10k-labels.idx1-ubyte', 'rb')\n",
    "test_labels_file.seek(8)\n",
    "\n",
    "num_of_test_images = int.from_bytes(test_images_file.read(4), 'big')\n",
    "test_images_file.seek(16)\n",
    "\n",
    "test_set = []\n",
    "for n in range(num_of_test_images):\n",
    "    image = np.zeros((784, 1))\n",
    "    for i in range(784):\n",
    "        image[i] = int.from_bytes(test_images_file.read(1), 'big') / 256\n",
    "    \n",
    "    label_value = int.from_bytes(test_labels_file.read(1), 'big')\n",
    "    label = np.zeros((10, 1))\n",
    "    label[label_value, 0] = 1\n",
    "    \n",
    "    test_set.append((image, label))\n",
    "\n",
    "\n",
    "# Plotting an image\n",
    "show_image(train_set[0][0])\n",
    "plt.show()\n",
    "print(get_maximux_label(train_set[0][1]))"
   ]
  },
  {
   "cell_type": "markdown",
   "id": "d8fa8800",
   "metadata": {},
   "source": [
    "## Generate Layers with Random Weights\n",
    "In our solution, we assume that there are two hidden layers with 16 neurons. We initialize weights with random values, then try to train our model."
   ]
  },
  {
   "cell_type": "code",
   "execution_count": 79,
   "id": "050b3a19",
   "metadata": {},
   "outputs": [],
   "source": [
    "def get_random_weight(shape):\n",
    "    res = np.zeros(shape)\n",
    "    for i in range(shape[0]):\n",
    "        for j in range(shape[1]):\n",
    "            res[i][j] = np.random.random_sample() * 2 - 1 # random numbers in range [-1, 1]\n",
    "    return res\n",
    "\n",
    "class Layer():\n",
    "    def __init__(self, W):\n",
    "        self.W = W\n",
    "        self.b = np.zeros((W.shape[0], 1))\n",
    "\n",
    "\n",
    "layers = [\n",
    "    Layer(get_random_weight((16, 784))), # first perceptron 784*16\n",
    "    Layer(get_random_weight((16, 16))), # second perceptron 16*16\n",
    "    Layer(get_random_weight((10, 16))), # last layer\n",
    "]"
   ]
  },
  {
   "cell_type": "markdown",
   "id": "4b143405",
   "metadata": {},
   "source": [
    "## Apply Feed Forward\n",
    "The following code will apply feed forward algorithm. Here are some descriptions for used variables:\n",
    "\n",
    "**_W\\[l\\]\\[i\\]\\[j\\]_**: weight of the j-th neuron in _l - 1_-th layer to i-th neuron in _l_-th layer.  \n",
    "**_b\\[l\\]\\[i\\]_**: bias value for i-th neuron in l-th layer.  \n",
    "**_Z\\[l\\]\\[i\\]_**: sum of all _W\\[l\\]\\[i\\]\\[j\\]_ multiplied by _A\\[l-1\\]\\[j\\]_ for all _j_ neurons in _l-1_-th layer, plus _b\\[l\\]\\[i\\]_ .  \n",
    "**_A\\[l\\]\\[i\\]_**: sigmoid(_Z\\[l\\]\\[i\\]_)."
   ]
  },
  {
   "cell_type": "code",
   "execution_count": 80,
   "id": "fbd2150c",
   "metadata": {},
   "outputs": [
    {
     "name": "stdout",
     "output_type": "stream",
     "text": [
      "Success rate for the first iteration: 10.08%\n"
     ]
    }
   ],
   "source": [
    "def sigmoid(x):\n",
    "    return 1 / (1 + np.exp(-x))\n",
    "\n",
    "def vector_sigmoid(A):\n",
    "    for i in range(A.shape[0]):\n",
    "        A[i] = sigmoid(A[i])\n",
    "    return A\n",
    "\n",
    "def sigmoid_der(x):\n",
    "    return np.exp(-x) / ((1 + np.exp(-x)) ** 2)\n",
    "\n",
    "def vector_sigmoid_der(A):\n",
    "    for i in range(A.shape[0]):\n",
    "        A[i] = sigmoid_der(A[i])\n",
    "    return A\n",
    "    \n",
    "    \n",
    "def compute_result_for_an_image(img):\n",
    "    A = [\n",
    "        np.array(img).reshape(784, 1),\n",
    "        np.zeros((16, 1)),\n",
    "        np.zeros((16, 1)),\n",
    "        np.zeros((10, 1))\n",
    "    ]\n",
    "    \n",
    "    Z = [0 for x in range(3)]\n",
    "    \n",
    "    for i in range(3):\n",
    "        A[i + 1] = np.matmul(layers[i].W, A[i])\n",
    "        A[i + 1] += layers[i].b\n",
    "        Z[i] = copy.deepcopy(A[i + 1])\n",
    "        A[i + 1] = vector_sigmoid(A[i + 1])\n",
    "    \n",
    "    return A, Z\n",
    "\n",
    "def report_success_rate_for_test_images():\n",
    "    correct_answer = 0\n",
    "    for i in range(len(test_set)):\n",
    "        computed_answer = get_maximux_label(compute_result_for_an_image(test_set[i][0])[0][-1])\n",
    "        if computed_answer == get_maximux_label(test_set[i][1]):\n",
    "            correct_answer += 1\n",
    "    return correct_answer / len(test_set)\n",
    "\n",
    "print(\"Success rate for the first iteration: \" + str(report_success_rate_for_test_images() * 100) + \"%\")"
   ]
  },
  {
   "cell_type": "markdown",
   "id": "0b4c3a7d",
   "metadata": {},
   "source": [
    "## Apply Backpropagation (inefficient calculation)\n"
   ]
  },
  {
   "cell_type": "code",
   "execution_count": 81,
   "id": "1b0bc03a",
   "metadata": {},
   "outputs": [
    {
     "name": "stdout",
     "output_type": "stream",
     "text": [
      "Epoch 1 err: [0.90326875]\n",
      "Epoch 2 err: [0.88350957]\n",
      "Epoch 3 err: [0.87325262]\n",
      "Epoch 4 err: [0.86426257]\n",
      "Epoch 5 err: [0.85528674]\n",
      "Epoch 6 err: [0.84578695]\n",
      "Epoch 7 err: [0.83553096]\n",
      "Epoch 8 err: [0.82445435]\n",
      "Epoch 9 err: [0.81257479]\n",
      "Epoch 10 err: [0.79993258]\n",
      "Epoch 11 err: [0.78655866]\n",
      "Epoch 12 err: [0.77248181]\n",
      "Epoch 13 err: [0.75775856]\n",
      "Epoch 14 err: [0.74249289]\n",
      "Epoch 15 err: [0.72681689]\n",
      "Epoch 16 err: [0.71085356]\n",
      "Epoch 17 err: [0.6947086]\n",
      "Epoch 18 err: [0.67848041]\n",
      "Epoch 19 err: [0.66226086]\n",
      "Epoch 20 err: [0.64612785]\n",
      "Epoch 21 err: [0.63013987]\n",
      "Epoch 22 err: [0.61433771]\n",
      "Epoch 23 err: [0.59875294]\n",
      "Epoch 24 err: [0.58341806]\n",
      "Epoch 25 err: [0.56836722]\n",
      "Epoch 26 err: [0.55362494]\n",
      "Epoch 27 err: [0.5391982]\n",
      "Epoch 28 err: [0.52507788]\n",
      "Epoch 29 err: [0.51124363]\n",
      "Epoch 30 err: [0.4976715]\n",
      "Epoch 31 err: [0.4843463]\n",
      "Epoch 32 err: [0.47127359]\n",
      "Epoch 33 err: [0.45847647]\n",
      "Epoch 34 err: [0.44597499]\n",
      "Epoch 35 err: [0.43377226]\n",
      "Epoch 36 err: [0.42185628]\n",
      "Epoch 37 err: [0.41020682]\n",
      "Epoch 38 err: [0.39880186]\n",
      "Epoch 39 err: [0.38762227]\n",
      "Epoch 40 err: [0.37665354]\n",
      "Epoch 41 err: [0.3658848]\n",
      "Epoch 42 err: [0.35530711]\n",
      "Epoch 43 err: [0.34491255]\n",
      "Epoch 44 err: [0.33469435]\n",
      "Epoch 45 err: [0.32464736]\n",
      "Epoch 46 err: [0.3147683]\n",
      "Epoch 47 err: [0.30505587]\n",
      "Epoch 48 err: [0.29551044]\n",
      "Epoch 49 err: [0.2861341]\n",
      "Epoch 50 err: [0.27693165]\n",
      "CPU times: user 3min 50s, sys: 35.4 ms, total: 3min 50s\n",
      "Wall time: 3min 50s\n"
     ]
    },
    {
     "data": {
      "text/plain": [
       "[<matplotlib.lines.Line2D at 0x7f8d65f44550>]"
      ]
     },
     "execution_count": 81,
     "metadata": {},
     "output_type": "execute_result"
    },
    {
     "data": {
      "image/png": "[encoded data removed]",
      "text/plain": [
       "<Figure size 640x480 with 1 Axes>"
      ]
     },
     "metadata": {},
     "output_type": "display_data"
    }
   ],
   "source": [
    "%%time\n",
    "\n",
    "def calculate_error_for_train_set(count):\n",
    "    res = 0\n",
    "    for i in range(count):\n",
    "        img = train_set[i]\n",
    "        A, Z = compute_result_for_an_image(img[0])\n",
    "        for i in range(10):\n",
    "            res += (A[-1][i] - img[1][i]) ** 2\n",
    "    return res / count\n",
    "\n",
    "learning_rate = 1\n",
    "epoch_count = 50\n",
    "batch_size = 10\n",
    "epoch_errors = []\n",
    "\n",
    "for epoch in range(epoch_count):\n",
    "    print(\"Epoch\", epoch + 1, flush=True, end=' ')\n",
    "    np.random.shuffle(train_set[:100])\n",
    "    for batch_start in range(0, 100, batch_size):\n",
    "        grad_W = [\n",
    "            np.zeros((16, 784)),\n",
    "            np.zeros((16, 16)),\n",
    "            np.zeros((10, 16)),\n",
    "        ]\n",
    "        \n",
    "        grad_b = [\n",
    "            np.zeros((16, 1)),\n",
    "            np.zeros((16, 1)),\n",
    "            np.zeros((10, 1)),\n",
    "        ]\n",
    "        \n",
    "        for img_index in range(batch_start, batch_start + batch_size):\n",
    "            if img_index >= len(train_set):\n",
    "                break\n",
    "        \n",
    "            layer_err = [\n",
    "                np.zeros((16, 1)),\n",
    "                np.zeros((16, 1)),\n",
    "                np.zeros((10, 1)),\n",
    "            ]\n",
    "        \n",
    "            # output of the network for the given image\n",
    "            A, Z = compute_result_for_an_image(train_set[img_index][0])\n",
    "            for neuron_index in range(layer_err[-1].shape[0]):\n",
    "                layer_err[-1][neuron_index] = (A[-1][neuron_index] - train_set[img_index][1][neuron_index]) * sigmoid_der(Z[-1][neuron_index])\n",
    "            \n",
    "            for layer_index in range(1, -1, -1):\n",
    "                layer_err[layer_index] = np.matmul(np.transpose(layers[layer_index + 1].W), layer_err[layer_index + 1])\n",
    "                sig_der = vector_sigmoid_der(Z[layer_index])\n",
    "                for layer_err_index in range(layer_err[layer_index].shape[0]):\n",
    "                    layer_err[layer_index][layer_err_index] *= sig_der[layer_err_index]\n",
    "            \n",
    "            for i in range(3):\n",
    "                grad_b[i] += layer_err[i]\n",
    "            \n",
    "            for l in range(3):\n",
    "                for j in range(grad_W[l].shape[0]):\n",
    "                    for i in range(grad_W[l].shape[1]):\n",
    "                        grad_W[l][j][i] += A[l][i] * layer_err[l][j]\n",
    "        \n",
    "        for l in range(3):\n",
    "            for j in range(layers[l].W.shape[0]):\n",
    "                for i in range(layers[l].W.shape[1]):\n",
    "                    layers[l].W[j][i] -= learning_rate * grad_W[l][j][i] / batch_size\n",
    "            \n",
    "            for j in range(layers[l].b.shape[0]):\n",
    "                layers[l].b[j] -= learning_rate * grad_b[l][j] / batch_size\n",
    "    epoch_errors.append(calculate_error_for_train_set(100))\n",
    "    print(\"err:\", epoch_errors[-1])\n",
    "\n",
    "    \n",
    "plt.plot(range(1, epoch_count + 1), epoch_errors)        "
   ]
  },
  {
   "cell_type": "code",
   "execution_count": 82,
   "id": "f5bed074",
   "metadata": {},
   "outputs": [
    {
     "name": "stdout",
     "output_type": "stream",
     "text": [
      "Success rate for the test set: 52.470000000000006%\n"
     ]
    }
   ],
   "source": [
    "print(\"Success rate for the test set: \" + str(report_success_rate_for_test_images() * 100) + \"%\")"
   ]
  },
  {
   "cell_type": "markdown",
   "id": "065cc3bb",
   "metadata": {},
   "source": [
    "## Apply Backpropagation (using vectorization)"
   ]
  },
  {
   "cell_type": "code",
   "execution_count": 83,
   "id": "297861c6",
   "metadata": {},
   "outputs": [
    {
     "name": "stdout",
     "output_type": "stream",
     "text": [
      "Epoch 1 err: [0.26791209]\n",
      "Epoch 11 err: [0.1902634]\n",
      "Epoch 21 err: [0.13448496]\n",
      "Epoch 31 err: [0.09809227]\n",
      "Epoch 41 err: [0.07546866]\n",
      "Epoch 51 err: [0.06051504]\n",
      "Epoch 61 err: [0.05025043]\n",
      "Epoch 71 err: [0.04298192]\n",
      "Epoch 81 err: [0.03768992]\n",
      "Epoch 91 err: [0.03370546]\n",
      "Epoch 101 err: [0.03061966]\n",
      "Epoch 111 err: [0.02817545]\n",
      "Epoch 121 err: [0.02620305]\n",
      "Epoch 131 err: [0.02458594]\n",
      "Epoch 141 err: [0.02324001]\n",
      "Epoch 151 err: [0.02210375]\n",
      "Epoch 161 err: [0.02113233]\n",
      "Epoch 171 err: [0.02029275]\n",
      "Epoch 181 err: [0.01956035]\n",
      "Epoch 191 err: [0.0189163]\n",
      "CPU times: user 14.1 s, sys: 60 ms, total: 14.1 s\n",
      "Wall time: 14.1 s\n"
     ]
    },
    {
     "data": {
      "text/plain": [
       "[<matplotlib.lines.Line2D at 0x7f8d65e9cf40>]"
      ]
     },
     "execution_count": 83,
     "metadata": {},
     "output_type": "execute_result"
    },
    {
     "data": {
      "image/png": "[encoded data removed]",
      "text/plain": [
       "<Figure size 640x480 with 1 Axes>"
      ]
     },
     "metadata": {},
     "output_type": "display_data"
    }
   ],
   "source": [
    "%%time\n",
    "\n",
    "epoch_count = 200\n",
    "batch_size = 10\n",
    "epoch_errors = []\n",
    "\n",
    "grad_W = [\n",
    "    np.zeros((16, 784)),\n",
    "    np.zeros((16, 16)),\n",
    "    np.zeros((10, 16)),\n",
    "]\n",
    "\n",
    "grad_b = [\n",
    "    np.zeros((16, 1)),\n",
    "    np.zeros((16, 1)),\n",
    "    np.zeros((10, 1)),\n",
    "]\n",
    "\n",
    "layer_err = [\n",
    "    np.zeros((16, 1)),\n",
    "    np.zeros((16, 1)),\n",
    "    np.zeros((10, 1)),\n",
    "]\n",
    "\n",
    "for epoch in range(epoch_count):\n",
    "    if epoch % 10 == 0:\n",
    "        print(\"Epoch\", epoch + 1, flush=True, end=' ')\n",
    "    np.random.shuffle(train_set[:100])\n",
    "    \n",
    "    for batch_start in range(0, 100, batch_size):\n",
    "        for i in range(3):\n",
    "            grad_W[i] *= 0\n",
    "            grad_b[i] *= 0\n",
    "            layer_err[i] *= 0\n",
    "        \n",
    "        for img_index in range(batch_start, batch_start + batch_size):\n",
    "            if img_index >= len(train_set):\n",
    "                break\n",
    "            \n",
    "            # output of the network for the given image\n",
    "            A, Z = compute_result_for_an_image(train_set[img_index][0])\n",
    "            layer_err[-1] = (A[-1] - train_set[img_index][1]) * vector_sigmoid_der(Z[-1])\n",
    "            \n",
    "            for layer_index in range(1, -1, -1):\n",
    "                layer_err[layer_index] = np.matmul(np.transpose(layers[layer_index + 1].W), layer_err[layer_index + 1])\n",
    "                layer_err[layer_index] *= vector_sigmoid_der(Z[layer_index])\n",
    "            \n",
    "            for i in range(3):\n",
    "                grad_b[i] += layer_err[i]\n",
    "            \n",
    "            for l in range(3):\n",
    "                grad_W[l] += np.matmul(layer_err[l], np.transpose(A[l]))\n",
    "        \n",
    "        for l in range(3):\n",
    "            layers[l].W -= learning_rate * grad_W[l] / min(batch_size, len(train_set) - batch_start + batch_size)\n",
    "            layers[l].b -= learning_rate * grad_b[l] / min(batch_size, len(train_set) - batch_start + batch_size)\n",
    "    epoch_errors.append(calculate_error_for_train_set(100))\n",
    "    if epoch % 10 == 0:\n",
    "        print(\"err:\", epoch_errors[-1])\n",
    "\n",
    "    \n",
    "plt.plot(range(1, epoch_count + 1), epoch_errors)     "
   ]
  },
  {
   "cell_type": "code",
   "execution_count": 84,
   "id": "5d38757a",
   "metadata": {},
   "outputs": [
    {
     "name": "stdout",
     "output_type": "stream",
     "text": [
      "Success rate for the test set: 58.620000000000005%\n"
     ]
    }
   ],
   "source": [
    "print(\"Success rate for the test set: \" + str(report_success_rate_for_test_images() * 100) + \"%\")"
   ]
  },
  {
   "cell_type": "markdown",
   "id": "de2b1d1c",
   "metadata": {},
   "source": [
    "## Using Model for the whole test set"
   ]
  },
  {
   "cell_type": "code",
   "execution_count": 85,
   "id": "38e3bf9b",
   "metadata": {},
   "outputs": [
    {
     "name": "stdout",
     "output_type": "stream",
     "text": [
      "Epoch 1 err: [0.24321179]\n",
      "Epoch 2 err: [0.19054555]\n",
      "Epoch 3 err: [0.16479397]\n",
      "Epoch 4 err: [0.15005597]\n",
      "Epoch 5 err: [0.13985379]\n",
      "CPU times: user 4min 39s, sys: 144 ms, total: 4min 39s\n",
      "Wall time: 4min 40s\n"
     ]
    },
    {
     "data": {
      "text/plain": [
       "[<matplotlib.lines.Line2D at 0x7f8d65e80eb0>]"
      ]
     },
     "execution_count": 85,
     "metadata": {},
     "output_type": "execute_result"
    },
    {
     "data": {
      "image/png": "[encoded data removed]",
      "text/plain": [
       "<Figure size 640x480 with 1 Axes>"
      ]
     },
     "metadata": {},
     "output_type": "display_data"
    }
   ],
   "source": [
    "%%time\n",
    "\n",
    "epoch_count = 5\n",
    "batch_size = 50\n",
    "epoch_errors = []\n",
    "\n",
    "grad_W = [\n",
    "    np.zeros((16, 784)),\n",
    "    np.zeros((16, 16)),\n",
    "    np.zeros((10, 16)),\n",
    "]\n",
    "\n",
    "grad_b = [\n",
    "    np.zeros((16, 1)),\n",
    "    np.zeros((16, 1)),\n",
    "    np.zeros((10, 1)),\n",
    "]\n",
    "\n",
    "layer_err = [\n",
    "    np.zeros((16, 1)),\n",
    "    np.zeros((16, 1)),\n",
    "    np.zeros((10, 1)),\n",
    "]\n",
    "\n",
    "for epoch in range(epoch_count):\n",
    "    print(\"Epoch\", epoch + 1, flush=True, end=' ')\n",
    "    np.random.shuffle(train_set)\n",
    "    \n",
    "    for batch_start in range(0, len(train_set), batch_size):\n",
    "        for i in range(3):\n",
    "            grad_W[i] *= 0\n",
    "            grad_b[i] *= 0\n",
    "            layer_err[i] *= 0\n",
    "        \n",
    "        for img_index in range(batch_start, batch_start + batch_size):\n",
    "            if img_index >= len(train_set):\n",
    "                break\n",
    "            \n",
    "            # output of the network for the given image\n",
    "            A, Z = compute_result_for_an_image(train_set[img_index][0])\n",
    "            layer_err[-1] = (A[-1] - train_set[img_index][1]) * vector_sigmoid_der(Z[-1])\n",
    "            \n",
    "            for layer_index in range(1, -1, -1):\n",
    "                layer_err[layer_index] = np.matmul(np.transpose(layers[layer_index + 1].W), layer_err[layer_index + 1])\n",
    "                layer_err[layer_index] *= vector_sigmoid_der(Z[layer_index])\n",
    "            \n",
    "            for i in range(3):\n",
    "                grad_b[i] += layer_err[i]\n",
    "            \n",
    "            for l in range(3):\n",
    "                grad_W[l] += np.matmul(layer_err[l], np.transpose(A[l]))\n",
    "        \n",
    "        for l in range(3):\n",
    "            layers[l].W -= learning_rate * grad_W[l] / min(batch_size, len(train_set) - batch_start + batch_size)\n",
    "            layers[l].b -= learning_rate * grad_b[l] / min(batch_size, len(train_set) - batch_start + batch_size)\n",
    "    epoch_errors.append(calculate_error_for_train_set(len(train_set)))\n",
    "    print(\"err:\", epoch_errors[-1])\n",
    "\n",
    "    \n",
    "plt.plot(range(1, epoch_count + 1), epoch_errors)     "
   ]
  },
  {
   "cell_type": "code",
   "execution_count": 87,
   "id": "8443495f",
   "metadata": {},
   "outputs": [
    {
     "name": "stdout",
     "output_type": "stream",
     "text": [
      "Success rate for the train set: 91.25999999999999%\n",
      "Success rate for the test set: 90.86999999999999%\n"
     ]
    }
   ],
   "source": [
    "def report_success_rate_for_train_images():\n",
    "    correct_answer = 0\n",
    "    for i in range(len(train_set)):\n",
    "        computed_answer = get_maximux_label(compute_result_for_an_image(train_set[i][0])[0][-1])\n",
    "        if computed_answer == get_maximux_label(train_set[i][1]):\n",
    "            correct_answer += 1\n",
    "    return correct_answer / len(train_set)\n",
    "\n",
    "print(\"Success rate for the train set: \" + str(report_success_rate_for_train_images() * 100) + \"%\")\n",
    "print(\"Success rate for the test set: \" + str(report_success_rate_for_test_images() * 100) + \"%\")"
   ]
  }
 ],
 "metadata": {
  "kernelspec": {
   "display_name": "Python 3 (ipykernel)",
   "language": "python",
   "name": "python3"
  },
  "language_info": {
   "codemirror_mode": {
    "name": "ipython",
    "version": 3
   },
   "file_extension": ".py",
   "mimetype": "text/x-python",
   "name": "python",
   "nbconvert_exporter": "python",
   "pygments_lexer": "ipython3",
   "version": "3.9.13"
  }
 },
 "nbformat": 4,
 "nbformat_minor": 5
}
